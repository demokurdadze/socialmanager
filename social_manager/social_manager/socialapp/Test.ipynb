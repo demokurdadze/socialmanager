{
 "cells": [
  {
   "cell_type": "code",
   "execution_count": 4,
   "metadata": {},
   "outputs": [],
   "source": [
    "from django.shortcuts import render\n",
    "from django.shortcuts import redirect\n",
    "import urllib.parse\n",
    "import requests\n",
    "\n",
    "\n",
    "def meta_auth(request):\n",
    "    params = {\n",
    "        'client_id': 1152489759401130,\n",
    "        'redirect_uri': 'http://localhost:8000/auth/meta/callback/',\n",
    "        'scope': 'pages_manage_engagement,pages_read_engagement,instagram_manage_messages',\n",
    "        'response_type': 'code',\n",
    "    }\n",
    "    url = 'https://www.facebook.com/v19.0/dialog/oauth?' + urllib.parse.urlencode(params)\n",
    "    return redirect(url)\n",
    "\n",
    "\n",
    "\n",
    "def meta_callback(request):\n",
    "    code = request.GET.get('code')\n",
    "    token_url = 'https://graph.facebook.com/v19.0/oauth/access_token'\n",
    "    params = {\n",
    "        'client_id': settings.META_APP_ID,\n",
    "        'client_secret': settings.META_APP_SECRET,\n",
    "        'redirect_uri': settings.META_REDIRECT_URI,\n",
    "        'code': code,\n",
    "    }\n",
    "    response = requests.get(token_url, params=params).json()\n",
    "    access_token = response['access_token']\n",
    "    \n",
    "    # Store the token securely (e.g., in the database)\n",
    "    request.user.meta_access_token = access_token\n",
    "    request.user.save()\n",
    "    \n",
    "    return redirect('dashboard')\n",
    "\n",
    "def get_page_id(access_token):\n",
    "    url = 'https://graph.facebook.com/v19.0/me/accounts'\n",
    "    response = requests.get(url, params={'access_token': access_token}).json()\n",
    "    #return response\n",
    "    return response['data'][0]['id']  # First Page ID\n",
    "\n",
    "\n",
    "def get_conversations(access_token, page_id):\n",
    "    url = f'https://graph.facebook.com/v19.0/{page_id}/conversations'\n",
    "    params = {\n",
    "        'fields': 'messages{message,from,created_time}',\n",
    "        'access_token': access_token,\n",
    "    }\n",
    "    response = requests.get(url, params=params).json()\n",
    "    #return response['data']\n",
    "    return response\n",
    "\n",
    "\n",
    "def get_instagram_messages(access_token, page_id):\n",
    "    # Get Instagram Business Account ID\n",
    "    url = f'https://graph.facebook.com/v19.0/{page_id}'\n",
    "    params = {\n",
    "        'fields': 'instagram_business_account',\n",
    "        'access_token': access_token,\n",
    "    }\n",
    "    ig_account_id = requests.get(url, params=params).json()['instagram_business_account']['id']\n",
    "\n",
    "    # Fetch Instagram conversations\n",
    "    url = f'https://graph.facebook.com/v19.0/{ig_account_id}/conversations'\n",
    "    params = {\n",
    "        'fields': 'messages{id,text,from,timestamp}',\n",
    "        'access_token': access_token,\n",
    "    }\n",
    "    response = requests.get(url, params=params).json()\n",
    "    return response['data']\n",
    "\n",
    "access_token = 'EAAQYLu63ZAKoBOwZBsqKNzLKrKGaw2ZBRu069niMh8ZCnONtpYwsxCuASXfYuIJwYG0Gz07ZBzMlz010h6a10vMwpOSVQCcH3JOesR21M6GqrtpMQL7HyoZABOPRwrozDEHZCEXGVvMEQFMam85LQL5JCa1uZBIT5bjAPWZBagZCM3RkuTxP18p6ecxac1iFWG9e7K9CXdg13zxnLf4uiIcf09g0svBOrZBeUfGSRmA7dsq1zAtswhxxLU0'\n",
    "pageid = '251068442394509'\n",
    "page_ac = 'EAAQYLu63ZAKoBO24mQ7MUoVKmz9byOg5COWdaVJGMpELfpCcCxZAnc0fZCw76ZAdf0uOtaBP27pwPZBwZBA4g90NGhJojnfAkohqiRMgQFjEAJ9lOIUIZCr3fYouj363BzAprzk6njFzHKjXXTqT1RzYyDpNtPv3qnO7CDHsujcGYU7JwicfS6xn8YZAzrZC1Yd8ZD'"
   ]
  },
  {
   "cell_type": "code",
   "execution_count": 1,
   "metadata": {},
   "outputs": [],
   "source": [
    "def get_page_access_token(user_access_token, page_id):\n",
    "    url = f'https://graph.facebook.com/v19.0/{page_id}'\n",
    "    params = {\n",
    "        'fields': 'access_token',\n",
    "        'access_token': user_access_token,\n",
    "    }\n",
    "    response = requests.get(url, params=params).json()\n",
    "    return response['access_token']  # Page-specific token\n",
    "\n",
    "def get_page_id(access_token):\n",
    "    url = 'https://graph.facebook.com/v19.0/me/accounts'\n",
    "    response = requests.get(url, params={'access_token': access_token}).json()\n",
    "    \n",
    "    if 'error' in response:\n",
    "        raise Exception(f\"API Error: {response['error']['message']}\")\n",
    "    \n",
    "    if not response.get('data'):\n",
    "        raise Exception(\"No Pages found. Ensure the user is a Page Admin.\")\n",
    "    \n",
    "    return response['data'][0]['id']\n",
    "\n",
    "def get_conversations(page_access_token, page_id):\n",
    "    url = f'https://graph.facebook.com/v19.0/{page_id}/conversations'\n",
    "    params = {\n",
    "        'fields': 'messages{message,from,created_time}',\n",
    "        'access_token': page_access_token,  # Use PAGE token here\n",
    "    }\n",
    "    response = requests.get(url, params=params).json()\n",
    "    \n",
    "    if 'error' in response:\n",
    "        print(\"Graph API Error:\", response['error'])\n",
    "        return []\n",
    "    \n",
    "    return response.get('data', [])"
   ]
  },
  {
   "cell_type": "code",
   "execution_count": 6,
   "metadata": {},
   "outputs": [],
   "source": [
    "pageid = get_page_id(access_token)"
   ]
  },
  {
   "cell_type": "code",
   "execution_count": 7,
   "metadata": {},
   "outputs": [],
   "source": [
    "page_ac = get_page_access_token(access_token, pageid)"
   ]
  },
  {
   "cell_type": "code",
   "execution_count": 8,
   "metadata": {},
   "outputs": [],
   "source": [
    "conversations = get_conversations(page_ac,pageid)"
   ]
  },
  {
   "cell_type": "code",
   "execution_count": 26,
   "metadata": {},
   "outputs": [],
   "source": [
    "a = conversations['data'][3]"
   ]
  },
  {
   "cell_type": "code",
   "execution_count": 31,
   "metadata": {},
   "outputs": [
    {
     "data": {
      "text/plain": [
       "[{'message': \"Hi, thanks for contacting us. We've received your message and appreciate you reaching out.\",\n",
       "  'from': {'name': 'Scooter Shop',\n",
       "   'email': '251068442394509@facebook.com',\n",
       "   'id': '251068442394509'},\n",
       "  'created_time': '2024-06-27T13:51:13+0000',\n",
       "  'id': 'm_u7yiY6vciRMXg_6wqr6j5hVk-ZXlCoYo1BkxuBA2pV3twmF9uD4eWeRfJW8IbLM7Wax5Dp2eUFx_1o3egXbdKA'},\n",
       " {'message': 'გამარჯობა',\n",
       "  'from': {'name': 'Gio Bareladze',\n",
       "   'email': '9498358326890949@facebook.com',\n",
       "   'id': '9498358326890949'},\n",
       "  'created_time': '2024-06-27T13:51:12+0000',\n",
       "  'id': 'm_5oBxTjEMC2kmmuldsYBvQBVk-ZXlCoYo1BkxuBA2pV3zhrVe5L43JxQcqwFRNq72BkIpoZYwjzimvh8-Xiezag'}]"
      ]
     },
     "execution_count": 31,
     "metadata": {},
     "output_type": "execute_result"
    }
   ],
   "source": [
    "a['messages']['data']"
   ]
  },
  {
   "cell_type": "code",
   "execution_count": null,
   "metadata": {},
   "outputs": [
    {
     "ename": "KeyError",
     "evalue": "'instagram_business_account'",
     "output_type": "error",
     "traceback": [
      "\u001b[1;31m---------------------------------------------------------------------------\u001b[0m",
      "\u001b[1;31mKeyError\u001b[0m                                  Traceback (most recent call last)",
      "Cell \u001b[1;32mIn[45], line 1\u001b[0m\n\u001b[1;32m----> 1\u001b[0m \u001b[43mget_instagram_messages\u001b[49m\u001b[43m(\u001b[49m\u001b[43mpage_ac\u001b[49m\u001b[43m,\u001b[49m\u001b[43mpageid\u001b[49m\u001b[43m)\u001b[49m\n",
      "Cell \u001b[1;32mIn[39], line 62\u001b[0m, in \u001b[0;36mget_instagram_messages\u001b[1;34m(access_token, page_id)\u001b[0m\n\u001b[0;32m     57\u001b[0m url \u001b[38;5;241m=\u001b[39m \u001b[38;5;124mf\u001b[39m\u001b[38;5;124m'\u001b[39m\u001b[38;5;124mhttps://graph.facebook.com/v19.0/\u001b[39m\u001b[38;5;132;01m{\u001b[39;00mpage_id\u001b[38;5;132;01m}\u001b[39;00m\u001b[38;5;124m'\u001b[39m\n\u001b[0;32m     58\u001b[0m params \u001b[38;5;241m=\u001b[39m {\n\u001b[0;32m     59\u001b[0m     \u001b[38;5;124m'\u001b[39m\u001b[38;5;124mfields\u001b[39m\u001b[38;5;124m'\u001b[39m: \u001b[38;5;124m'\u001b[39m\u001b[38;5;124minstagram_business_account\u001b[39m\u001b[38;5;124m'\u001b[39m,\n\u001b[0;32m     60\u001b[0m     \u001b[38;5;124m'\u001b[39m\u001b[38;5;124maccess_token\u001b[39m\u001b[38;5;124m'\u001b[39m: access_token,\n\u001b[0;32m     61\u001b[0m }\n\u001b[1;32m---> 62\u001b[0m ig_account_id \u001b[38;5;241m=\u001b[39m \u001b[43mrequests\u001b[49m\u001b[38;5;241;43m.\u001b[39;49m\u001b[43mget\u001b[49m\u001b[43m(\u001b[49m\u001b[43murl\u001b[49m\u001b[43m,\u001b[49m\u001b[43m \u001b[49m\u001b[43mparams\u001b[49m\u001b[38;5;241;43m=\u001b[39;49m\u001b[43mparams\u001b[49m\u001b[43m)\u001b[49m\u001b[38;5;241;43m.\u001b[39;49m\u001b[43mjson\u001b[49m\u001b[43m(\u001b[49m\u001b[43m)\u001b[49m\u001b[43m[\u001b[49m\u001b[38;5;124;43m'\u001b[39;49m\u001b[38;5;124;43minstagram_business_account\u001b[39;49m\u001b[38;5;124;43m'\u001b[39;49m\u001b[43m]\u001b[49m[\u001b[38;5;124m'\u001b[39m\u001b[38;5;124mid\u001b[39m\u001b[38;5;124m'\u001b[39m]\n\u001b[0;32m     64\u001b[0m \u001b[38;5;66;03m# Fetch Instagram conversations\u001b[39;00m\n\u001b[0;32m     65\u001b[0m url \u001b[38;5;241m=\u001b[39m \u001b[38;5;124mf\u001b[39m\u001b[38;5;124m'\u001b[39m\u001b[38;5;124mhttps://graph.facebook.com/v19.0/\u001b[39m\u001b[38;5;132;01m{\u001b[39;00mig_account_id\u001b[38;5;132;01m}\u001b[39;00m\u001b[38;5;124m/conversations\u001b[39m\u001b[38;5;124m'\u001b[39m\n",
      "\u001b[1;31mKeyError\u001b[0m: 'instagram_business_account'"
     ]
    }
   ],
   "source": [
    "get_instagram_messages(page_ac,pageid)"
   ]
  }
 ],
 "metadata": {
  "kernelspec": {
   "display_name": "base",
   "language": "python",
   "name": "python3"
  },
  "language_info": {
   "codemirror_mode": {
    "name": "ipython",
    "version": 3
   },
   "file_extension": ".py",
   "mimetype": "text/x-python",
   "name": "python",
   "nbconvert_exporter": "python",
   "pygments_lexer": "ipython3",
   "version": "3.10.6"
  }
 },
 "nbformat": 4,
 "nbformat_minor": 2
}
